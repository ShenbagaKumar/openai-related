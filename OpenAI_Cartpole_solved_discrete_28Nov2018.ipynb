{
 "cells": [
  {
   "cell_type": "code",
   "execution_count": null,
   "metadata": {},
   "outputs": [],
   "source": [
    "from IPython.display import display, HTML\n",
    "\n",
    "display(HTML(data=\"\"\"\n",
    "<style>\n",
    "    div#notebook-container    { width: 95%; }\n",
    "    div#menubar-container     { width: 65%; }\n",
    "    div#maintoolbar-container { width: 99%; }\n",
    "</style>\n",
    "\"\"\"))"
   ]
  },
  {
   "cell_type": "code",
   "execution_count": 1,
   "metadata": {
    "collapsed": true
   },
   "outputs": [],
   "source": [
    "import gym\n",
    "import numpy as np"
   ]
  },
  {
   "cell_type": "code",
   "execution_count": 2,
   "metadata": {},
   "outputs": [],
   "source": [
    "env = gym.make('CartPole-v1')"
   ]
  },
  {
   "cell_type": "code",
   "execution_count": 3,
   "metadata": {
    "collapsed": true
   },
   "outputs": [],
   "source": [
    "from functools import wraps"
   ]
  },
  {
   "cell_type": "code",
   "execution_count": 4,
   "metadata": {
    "collapsed": true
   },
   "outputs": [],
   "source": [
    "from gym import Wrapper"
   ]
  },
  {
   "cell_type": "code",
   "execution_count": 5,
   "metadata": {
    "collapsed": true
   },
   "outputs": [],
   "source": [
    "from gym import wrappers"
   ]
  },
  {
   "cell_type": "markdown",
   "metadata": {},
   "source": [
    "# Take random steps and check how far we proceed"
   ]
  },
  {
   "cell_type": "code",
   "execution_count": 6,
   "metadata": {
    "collapsed": true
   },
   "outputs": [],
   "source": [
    "total_episodes_random_steps = 1000\n",
    "steps_in_episode = []"
   ]
  },
  {
   "cell_type": "code",
   "execution_count": 7,
   "metadata": {
    "collapsed": true
   },
   "outputs": [],
   "source": [
    "rewards_in_episode = []"
   ]
  },
  {
   "cell_type": "code",
   "execution_count": 8,
   "metadata": {
    "collapsed": true
   },
   "outputs": [],
   "source": [
    "for episode in range(total_episodes_random_steps):\n",
    "    steps = 0\n",
    "    done = False\n",
    "    reward_this_ep = 0\n",
    "    \n",
    "    env.reset()\n",
    "    \n",
    "    while not done:\n",
    "    #take a random step: there are only two actions possible: step of 0 or 1\n",
    "        new_state, reward, done, info = env.step(np.random.randint(2))\n",
    "        reward_this_ep += 1\n",
    "    \n",
    "        if not done:\n",
    "            steps += 1\n",
    "        else:\n",
    "            steps_in_episode.append(steps)\n",
    "            rewards_in_episode.append(reward_this_ep)\n",
    "            break"
   ]
  },
  {
   "cell_type": "code",
   "execution_count": 9,
   "metadata": {},
   "outputs": [],
   "source": [
    "import matplotlib.pyplot as plt"
   ]
  },
  {
   "cell_type": "code",
   "execution_count": 10,
   "metadata": {},
   "outputs": [
    {
     "data": {
      "image/png": "[encoded data removed]",
      "text/plain": [
       "<Figure size 432x288 with 1 Axes>"
      ]
     },
     "metadata": {},
     "output_type": "display_data"
    }
   ],
   "source": [
    "plt.hist(steps_in_episode)\n",
    "plt.show()"
   ]
  },
  {
   "cell_type": "code",
   "execution_count": 11,
   "metadata": {},
   "outputs": [
    {
     "data": {
      "image/png": "[encoded data removed]",
      "text/plain": [
       "<Figure size 432x288 with 1 Axes>"
      ]
     },
     "metadata": {},
     "output_type": "display_data"
    }
   ],
   "source": [
    "plt.boxplot(steps_in_episode)\n",
    "plt.show()"
   ]
  },
  {
   "cell_type": "markdown",
   "metadata": {},
   "source": [
    "# In the random steps scenario, the median is ~20; 50 p.c ~30; 99 p.c ~42"
   ]
  },
  {
   "cell_type": "markdown",
   "metadata": {},
   "source": [
    "https://github.com/openai/gym/wiki/CartPole-v0\n",
    "<br>\n",
    "\n",
    "Type: Box(4)\n",
    "<br>\n",
    "<br>Num\tObservation\tMin\tMax\n",
    "<br>0\tCart Position\t-2.4\t2.4\n",
    "<br>1\tCart Velocity\t-Inf\tInf\n",
    "<br>2\tPole Angle\t~ -41.8°\t~ 41.8°\n",
    "<br>3\tPole Velocity At Tip\t-Inf\tInf\n",
    "<br>Actions"
   ]
  },
  {
   "cell_type": "markdown",
   "metadata": {},
   "source": [
    "#as seen in <br>\n",
    "https://medium.com/@_seanavery/reinforcement-learning-for-n00bs-pt-1-23ca71fc3c  and <br>\n",
    "https://ferdinand-muetsch.de/cartpole-with-qlearning-first-experiences-with-openai-gym.html <br>\n",
    "the cart position can be ignored and we focus on the pole angle and velocity alone"
   ]
  },
  {
   "cell_type": "code",
   "execution_count": 12,
   "metadata": {
    "collapsed": true
   },
   "outputs": [],
   "source": [
    "#we will create a discrete set of observations; basically rounding off our inputs to some values and make it discrete"
   ]
  },
  {
   "cell_type": "markdown",
   "metadata": {},
   "source": [
    "bins = np.zeros((4,10))<br>\n",
    "<br>\tbins[0] = np.linspace(-4.8, 4.8, 10)\n",
    "<br>\tbins[1] = np.linspace(-5, 5, 10)\n",
    "<br>\tbins[2] = np.linspace(-.418, .418, 10)\n",
    "<br>\tbins[3] = np.linspace(-5, 5, 10)"
   ]
  },
  {
   "cell_type": "code",
   "execution_count": 13,
   "metadata": {},
   "outputs": [
    {
     "data": {
      "text/plain": [
       "array([-0.418     , -0.32511111, -0.23222222, -0.13933333, -0.04644444,\n",
       "        0.04644444,  0.13933333,  0.23222222,  0.32511111,  0.418     ])"
      ]
     },
     "execution_count": 13,
     "metadata": {},
     "output_type": "execute_result"
    }
   ],
   "source": [
    "np.linspace(-0.418, 0.418, 10)"
   ]
  },
  {
   "cell_type": "code",
   "execution_count": 14,
   "metadata": {
    "collapsed": true
   },
   "outputs": [],
   "source": [
    "#create different buckets for the pos and velocity\n",
    "def fn_pole_angle_bucketing(input_val):\n",
    "    \n",
    "    output_val = None\n",
    "    if (input_val >= -0.418) and (input_val < -0.325):\n",
    "        output_val = 1\n",
    "    elif (input_val >= -0.325) and (input_val < -0.232):\n",
    "        output_val = 2\n",
    "    elif (input_val >= -0.232) and (input_val < -0.139):\n",
    "        output_val = 3\n",
    "    elif  (input_val >= -0.139) and (input_val < -0.046):\n",
    "        output_val = 4\n",
    "    elif (input_val >= -0.046) and (input_val < 0.046):\n",
    "        output_val = 5\n",
    "    elif (input_val >= 0.046) and (input_val < 0.0139):\n",
    "        output_val = 6\n",
    "    \n",
    "    elif (input_val >= 0.139) and (input_val < 0.232):\n",
    "        output_val = 7\n",
    "    \n",
    "    elif (input_val >= 0.232) and (input_val < 0.325):\n",
    "        output_val = 8\n",
    "    elif (input_val >= 0.325) and (input_val < 0.418):\n",
    "        output_val = 9\n",
    "    else:\n",
    "        output_val = 0\n",
    "    \n",
    "    return output_val"
   ]
  },
  {
   "cell_type": "code",
   "execution_count": 15,
   "metadata": {},
   "outputs": [
    {
     "data": {
      "text/plain": [
       "array([-5.        , -3.88888889, -2.77777778, -1.66666667, -0.55555556,\n",
       "        0.55555556,  1.66666667,  2.77777778,  3.88888889,  5.        ])"
      ]
     },
     "execution_count": 15,
     "metadata": {},
     "output_type": "execute_result"
    }
   ],
   "source": [
    "np.linspace(-5, 5, 10)"
   ]
  },
  {
   "cell_type": "code",
   "execution_count": 16,
   "metadata": {},
   "outputs": [],
   "source": [
    "#create different buckets for the pos and velocity\n",
    "def fn_pole_vel_bucketing(input_val):\n",
    "    \n",
    "    output_val = None\n",
    "    if (input_val >= -5) and (input_val < -3.9):\n",
    "        output_val = 1\n",
    "    elif (input_val >= -3.9) and (input_val < -2.8):\n",
    "        output_val = 2\n",
    "    elif (input_val >= -2.8) and (input_val < -1.7):\n",
    "        output_val = 3\n",
    "    elif  (input_val >= -1.7) and (input_val < -0.55):\n",
    "        output_val = 4\n",
    "    elif (input_val >= -0.55) and (input_val < 0.055):\n",
    "        output_val = 5\n",
    "    elif (input_val >= 0.55) and (input_val < 1.7):\n",
    "        output_val = 6\n",
    "    \n",
    "    elif (input_val >= 1.7) and (input_val < 2.8):\n",
    "        output_val = 7\n",
    "    \n",
    "    elif (input_val >= 2.8) and (input_val < 3.9):\n",
    "        output_val = 8\n",
    "    elif (input_val >= 3.9) and (input_val < 5):\n",
    "        output_val = 9\n",
    "    else:\n",
    "        output_val = 0\n",
    "    \n",
    "    \n",
    "    return output_val"
   ]
  },
  {
   "cell_type": "code",
   "execution_count": 17,
   "metadata": {
    "collapsed": true
   },
   "outputs": [],
   "source": [
    "def fn_discrete_bins_pole_ang_pole_vel(input_box):\n",
    "    \n",
    "    cart_pos, cart_vel, pole_angle, pole_vel= input_box[0], input_box[1], input_box[2], input_box[3]\n",
    "    #print(cart_pos, cart_vel, pole_angle, pole_vel)\n",
    "    \n",
    "    #cart_pos_str = str(fn_pos_output_1_to_9(cart_pos))\n",
    "    #cart_vel_str = str(fn_output_0_to_6(cart_vel))\n",
    "    pole_angle_str = str(fn_pole_angle_bucketing(pole_angle))\n",
    "    pole_vel_str = str(fn_pole_vel_bucketing(pole_vel))\n",
    "\n",
    "    combined_str = pole_angle_str + pole_vel_str\n",
    "    \n",
    "    return combined_str"
   ]
  },
  {
   "cell_type": "code",
   "execution_count": 18,
   "metadata": {
    "collapsed": true
   },
   "outputs": [],
   "source": [
    "q_table_map = {}"
   ]
  },
  {
   "cell_type": "code",
   "execution_count": 19,
   "metadata": {
    "collapsed": true
   },
   "outputs": [],
   "source": [
    "index_val = 0\n",
    "for a in range(0, 10):\n",
    "    for b in range(0, 10):\n",
    "        q_key = str(a)+ str(b)\n",
    "        q_table_map[q_key] = index_val\n",
    "        index_val += 1"
   ]
  },
  {
   "cell_type": "code",
   "execution_count": 20,
   "metadata": {},
   "outputs": [
    {
     "data": {
      "text/plain": [
       "100"
      ]
     },
     "execution_count": 20,
     "metadata": {},
     "output_type": "execute_result"
    }
   ],
   "source": [
    "len(q_table_map)"
   ]
  },
  {
   "cell_type": "code",
   "execution_count": 21,
   "metadata": {
    "collapsed": true
   },
   "outputs": [],
   "source": [
    "q_table = np.zeros((len(q_table_map), 2))"
   ]
  },
  {
   "cell_type": "code",
   "execution_count": 22,
   "metadata": {
    "collapsed": true
   },
   "outputs": [],
   "source": [
    "import random"
   ]
  },
  {
   "cell_type": "code",
   "execution_count": 23,
   "metadata": {
    "collapsed": true
   },
   "outputs": [],
   "source": [
    "#params\n",
    "learning_rate = 0.5\n",
    "gamma = 0.9"
   ]
  },
  {
   "cell_type": "code",
   "execution_count": 24,
   "metadata": {
    "collapsed": true
   },
   "outputs": [],
   "source": [
    "# Exploration parameters\n",
    "epsilon = 1.0                 # Exploration rate\n",
    "max_epsilon = 1.0             # Exploration probability at start\n",
    "min_epsilon = 0.01            # Minimum exploration probability \n",
    "decay_rate = 0.01             # Exponential decay rate for exploration prob"
   ]
  },
  {
   "cell_type": "code",
   "execution_count": 25,
   "metadata": {
    "scrolled": true
   },
   "outputs": [],
   "source": [
    "total_episodes = 10000\n",
    "\n",
    "\n",
    "for episode in range(total_episodes):\n",
    "    state = env.reset()\n",
    "    #action = env.action_space.sample()\n",
    "    done = False\n",
    "    cnt = 0\n",
    "    \n",
    "    while not done:\n",
    "        cnt += 1\n",
    "        str_rep_of_state = fn_discrete_bins_pole_ang_pole_vel(state)\n",
    "        index_val_of_state = q_table_map[str_rep_of_state]\n",
    "        \n",
    "        exp_exp_tradeoff = random.uniform(0, 1)\n",
    "        \n",
    "        ## If this number > greater than epsilon --> exploitation (taking the biggest Q value for this state)\n",
    "        if exp_exp_tradeoff > epsilon:\n",
    "            action = np.argmax(q_table[index_val_of_state,:])\n",
    "        \n",
    "        # Else doing a random choice --> exploration\n",
    "        else:\n",
    "            action = env.action_space.sample()\n",
    "        \n",
    "        new_state, reward, done, info = env.step(action)\n",
    "        \n",
    "        if done and cnt < 200:\n",
    "            reward = -300\n",
    "        \n",
    "        \n",
    "        #Q[s,a] = Q[s, a] + learning rate * (reward + gamma * np.max(Q[new_state, :]) - Q[s, a])\n",
    "        \n",
    "        str_rep_of_new_state = fn_discrete_bins_pole_ang_pole_vel(new_state)\n",
    "        index_val_of_new_state = q_table_map[str_rep_of_new_state]\n",
    "        \n",
    "        q_table[index_val_of_state, action] = q_table[index_val_of_state, action] + learning_rate * (reward + gamma * (np.max(q_table[index_val_of_new_state, :])) - q_table[index_val_of_state, action])\n",
    "        \n",
    "        action = np.argmax(q_table[index_val_of_new_state, :])\n",
    "        state = new_state\n",
    "        \n",
    "    epsilon = min_epsilon + (max_epsilon - min_epsilon)*np.exp(-decay_rate*episode)"
   ]
  },
  {
   "cell_type": "code",
   "execution_count": 26,
   "metadata": {},
   "outputs": [
    {
     "data": {
      "text/plain": [
       "-13509.107257643534"
      ]
     },
     "execution_count": 26,
     "metadata": {},
     "output_type": "execute_result"
    }
   ],
   "source": [
    "np.sum(q_table)"
   ]
  },
  {
   "cell_type": "code",
   "execution_count": 27,
   "metadata": {
    "scrolled": true
   },
   "outputs": [
    {
     "name": "stdout",
     "output_type": "stream",
     "text": [
      "232.0\n"
     ]
    }
   ],
   "source": [
    "state = env.reset()\n",
    "done = False\n",
    "total_reward = 0\n",
    "count = 0\n",
    "\n",
    "while not done:\n",
    "\n",
    "    str_rep_of_state = fn_discrete_bins_pole_ang_pole_vel(state)\n",
    "    index_val_of_state = q_table_map[str_rep_of_state]\n",
    "    \n",
    "    action = np.argmax(q_table[index_val_of_state, :])\n",
    "\n",
    "    new_state, reward, done, info = env.step(action)\n",
    "\n",
    "    total_reward += reward\n",
    "\n",
    "    state = new_state\n",
    "    \n",
    "print(total_reward)"
   ]
  },
  {
   "cell_type": "code",
   "execution_count": 28,
   "metadata": {},
   "outputs": [
    {
     "data": {
      "image/png": "[encoded data removed]",
      "text/plain": [
       "<Figure size 432x288 with 1 Axes>"
      ]
     },
     "metadata": {},
     "output_type": "display_data"
    }
   ],
   "source": [
    "total_reward_list = []\n",
    "for i in range(total_episodes):\n",
    "    state = env.reset()\n",
    "    done = False\n",
    "    total_reward = 0\n",
    "    count = 0\n",
    "\n",
    "    while not done:\n",
    "        #reverse \n",
    "        str_rep_of_state = fn_discrete_bins_pole_ang_pole_vel(state)\n",
    "        index_val_of_state = q_table_map[str_rep_of_state]\n",
    "\n",
    "        action = np.argmax(q_table[index_val_of_state, :])\n",
    "\n",
    "        new_state, reward, done, info = env.step(action)\n",
    "\n",
    "        total_reward += reward\n",
    "        state = new_state\n",
    "    total_reward_list.append(total_reward)\n",
    "        \n",
    "plt.hist(total_reward_list)\n",
    "plt.show()"
   ]
  },
  {
   "cell_type": "code",
   "execution_count": 29,
   "metadata": {},
   "outputs": [
    {
     "data": {
      "image/png": "[encoded data removed]",
      "text/plain": [
       "<Figure size 432x288 with 1 Axes>"
      ]
     },
     "metadata": {},
     "output_type": "display_data"
    }
   ],
   "source": [
    "plt.boxplot(total_reward_list)\n",
    "plt.show()"
   ]
  },
  {
   "cell_type": "markdown",
   "metadata": {},
   "source": [
    "# With Q-learning, everything is 500 steps!!"
   ]
  },
  {
   "cell_type": "code",
   "execution_count": null,
   "metadata": {},
   "outputs": [],
   "source": [
    "np.average(total_reward_list)"
   ]
  },
  {
   "cell_type": "code",
   "execution_count": null,
   "metadata": {
    "collapsed": true
   },
   "outputs": [],
   "source": [
    "import os"
   ]
  },
  {
   "cell_type": "code",
   "execution_count": null,
   "metadata": {},
   "outputs": [],
   "source": [
    "os.getcwd()"
   ]
  },
  {
   "cell_type": "code",
   "execution_count": null,
   "metadata": {},
   "outputs": [],
   "source": [
    "env = wrappers.Monitor(env, 'C:\\\\Users\\\\shenbaga.kumar\\\\Documents\\\\cartpole-experiment-1')"
   ]
  },
  {
   "cell_type": "code",
   "execution_count": null,
   "metadata": {
    "collapsed": true
   },
   "outputs": [],
   "source": [
    "env = gym.wrappers.Monitor(env, \"./vid\", video_callable=lambda episode_id: True,force=True)"
   ]
  },
  {
   "cell_type": "code",
   "execution_count": null,
   "metadata": {
    "collapsed": true
   },
   "outputs": [],
   "source": [
    "total_reward_list = []\n",
    "for i in range(10):\n",
    "    state = env.reset()\n",
    "    done = False\n",
    "    total_reward = 0\n",
    "    count = 0\n",
    "\n",
    "    while not done:\n",
    "        #reverse \n",
    "        str_rep_of_state = fn_discrete_bins_pole_ang_pole_vel(state)\n",
    "        index_val_of_state = q_table_map[str_rep_of_state]\n",
    "\n",
    "        action = np.argmax(q_table[index_val_of_state, :])\n",
    "\n",
    "        new_state, reward, done, info = env.step(action)\n",
    "\n",
    "        total_reward += reward\n",
    "        state = new_state\n",
    "    total_reward_list.append(total_reward)"
   ]
  },
  {
   "cell_type": "code",
   "execution_count": null,
   "metadata": {
    "collapsed": true
   },
   "outputs": [],
   "source": [
    "env.close()"
   ]
  },
  {
   "cell_type": "markdown",
   "metadata": {},
   "source": [
    "# Try a very simple Q table with only pole angle binned"
   ]
  },
  {
   "cell_type": "code",
   "execution_count": null,
   "metadata": {
    "collapsed": true
   },
   "outputs": [],
   "source": [
    "def fn_discrete_bins_pole_ang_only(input_box):\n",
    "    \n",
    "    cart_pos, cart_vel, pole_angle, pole_vel= input_box[0], input_box[1], input_box[2], input_box[3]\n",
    "    #print(cart_pos, cart_vel, pole_angle, pole_vel)\n",
    "    \n",
    "    #cart_pos_str = str(fn_pos_output_1_to_9(cart_pos))\n",
    "    #cart_vel_str = str(fn_output_0_to_6(cart_vel))\n",
    "    \n",
    "    pole_angle_str = str(fn_pole_angle_bucketing(pole_angle))\n",
    "    \n",
    "    #pole_vel_str = str(fn_pole_vel_bucketing(pole_vel))\n",
    "\n",
    "    combined_str = pole_angle_str# + pole_vel_str\n",
    "    \n",
    "    return combined_str"
   ]
  },
  {
   "cell_type": "code",
   "execution_count": null,
   "metadata": {
    "collapsed": true
   },
   "outputs": [],
   "source": [
    "q_table_map2 = {}"
   ]
  },
  {
   "cell_type": "code",
   "execution_count": null,
   "metadata": {
    "collapsed": true
   },
   "outputs": [],
   "source": [
    "index_val = 0\n",
    "for a in range(0, 10):\n",
    "    q_key = str(a)\n",
    "    q_table_map2[q_key] = index_val\n",
    "    index_val += 1"
   ]
  },
  {
   "cell_type": "code",
   "execution_count": null,
   "metadata": {},
   "outputs": [],
   "source": [
    "q_table2 = np.zeros((len(q_table_map2), 2))"
   ]
  },
  {
   "cell_type": "code",
   "execution_count": null,
   "metadata": {},
   "outputs": [],
   "source": [
    "env2 = gym.make('CartPole-v1')"
   ]
  },
  {
   "cell_type": "code",
   "execution_count": null,
   "metadata": {},
   "outputs": [],
   "source": [
    "env2.reset()"
   ]
  },
  {
   "cell_type": "code",
   "execution_count": null,
   "metadata": {
    "scrolled": false
   },
   "outputs": [],
   "source": [
    "total_episodes = 10000\n",
    "\n",
    "\n",
    "for episode in range(total_episodes):\n",
    "    state = env2.reset()\n",
    "    #action = env.action_space.sample()\n",
    "    done = False\n",
    "    cnt = 0\n",
    "    \n",
    "    while not done:\n",
    "        cnt += 1\n",
    "        str_rep_of_state = fn_discrete_bins_pole_ang_only(state)\n",
    "        index_val_of_state = q_table_map2[str_rep_of_state]\n",
    "        \n",
    "        exp_exp_tradeoff = random.uniform(0, 1)\n",
    "        \n",
    "        ## If this number > greater than epsilon --> exploitation (taking the biggest Q value for this state)\n",
    "        if exp_exp_tradeoff > epsilon:\n",
    "            action = np.argmax(q_table2[index_val_of_state,:])\n",
    "        \n",
    "        # Else doing a random choice --> exploration\n",
    "        else:\n",
    "            action = env2.action_space.sample()\n",
    "        \n",
    "        new_state, reward, done, info = env2.step(action)\n",
    "        \n",
    "        if done and cnt < 200:\n",
    "            reward = -300\n",
    "        \n",
    "        \n",
    "        #Q[s,a] = Q[s, a] + learning rate * (reward + gamma * np.max(Q[new_state, :]) - Q[s, a])\n",
    "        \n",
    "        str_rep_of_new_state = fn_discrete_bins_pole_ang_only(new_state)\n",
    "        index_val_of_new_state = q_table_map2[str_rep_of_new_state]\n",
    "        \n",
    "        q_table2[index_val_of_state, action] = q_table2[index_val_of_state, action] + learning_rate * (reward + gamma * (np.max(q_table2[index_val_of_new_state, :])) - q_table2[index_val_of_state, action])\n",
    "        \n",
    "        action = np.argmax(q_table2[index_val_of_new_state, :])\n",
    "        state = new_state\n",
    "        \n",
    "    epsilon = min_epsilon + (max_epsilon - min_epsilon)*np.exp(-decay_rate*episode)"
   ]
  },
  {
   "cell_type": "code",
   "execution_count": null,
   "metadata": {},
   "outputs": [],
   "source": [
    "state = env2.reset()\n",
    "done = False\n",
    "total_reward = 0\n",
    "count = 0\n",
    "\n",
    "while not done:\n",
    "    print(state)\n",
    "    str_rep_of_state = fn_discrete_bins_pole_ang_only(state)\n",
    "    index_val_of_state = q_table_map2[str_rep_of_state]\n",
    "    \n",
    "    action = np.argmax(q_table2[index_val_of_state, :])\n",
    "    print(action)\n",
    "    new_state, reward, done, info = env2.step(action)\n",
    "\n",
    "    total_reward += reward\n",
    "\n",
    "    state = new_state\n",
    "    \n",
    "print(total_reward)"
   ]
  },
  {
   "cell_type": "markdown",
   "metadata": {},
   "source": [
    "# we see that using only the pole angle is not working. We need to use both pole angle and pole vel"
   ]
  },
  {
   "cell_type": "code",
   "execution_count": null,
   "metadata": {
    "collapsed": true
   },
   "outputs": [],
   "source": []
  }
 ],
 "metadata": {
  "anaconda-cloud": {},
  "kernelspec": {
   "display_name": "Python [conda env:tensorflow]",
   "language": "python",
   "name": "conda-env-tensorflow-py"
  },
  "language_info": {
   "codemirror_mode": {
    "name": "ipython",
    "version": 3
   },
   "file_extension": ".py",
   "mimetype": "text/x-python",
   "name": "python",
   "nbconvert_exporter": "python",
   "pygments_lexer": "ipython3",
   "version": "3.6.2"
  }
 },
 "nbformat": 4,
 "nbformat_minor": 1
}
